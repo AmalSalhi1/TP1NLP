{
  "nbformat": 4,
  "nbformat_minor": 0,
  "metadata": {
    "colab": {
      "provenance": [],
      "authorship_tag": "ABX9TyPMbtxGNzutbbBkvagCMU0y",
      "include_colab_link": true
    },
    "kernelspec": {
      "name": "python3",
      "display_name": "Python 3"
    },
    "language_info": {
      "name": "python"
    }
  },
  "cells": [
    {
      "cell_type": "markdown",
      "metadata": {
        "id": "view-in-github",
        "colab_type": "text"
      },
      "source": [
        "<a href=\"https://colab.research.google.com/github/AmalSalhi1/TP1NLP/blob/main/numpyqst1.ipynb\" target=\"_parent\"><img src=\"https://colab.research.google.com/assets/colab-badge.svg\" alt=\"Open In Colab\"/></a>"
      ]
    },
    {
      "cell_type": "code",
      "execution_count": 1,
      "metadata": {
        "colab": {
          "base_uri": "https://localhost:8080/"
        },
        "id": "fejV7UDrOLUe",
        "outputId": "2d78621e-b511-4b33-e11c-daaca5ad9c51"
      },
      "outputs": [
        {
          "output_type": "stream",
          "name": "stdout",
          "text": [
            "Vecteur résultant : [0. 0. 0. 0. 0. 3. 0. 0. 0. 0.]\n"
          ]
        }
      ],
      "source": [
        "import numpy as np\n",
        "\n",
        "# Création d'un vecteur nul de taille 10\n",
        "vecteur_nul = np.zeros(10)\n",
        "\n",
        "# Mise à jour de la sixième valeur à 3\n",
        "vecteur_nul[5] = 3\n",
        "\n",
        "# Affichage du vecteur résultant\n",
        "print(\"Vecteur résultant :\", vecteur_nul)\n"
      ]
    },
    {
      "cell_type": "code",
      "source": [
        "import numpy as np\n",
        "\n",
        "# Création d'un tableau avec des valeurs impaires entre 12 et 38\n",
        "tableau_impaires = np.arange(13, 39, 2)\n",
        "\n",
        "# Affichage du tableau résultant\n",
        "print(\"Tableau résultant :\", tableau_impaires)\n"
      ],
      "metadata": {
        "colab": {
          "base_uri": "https://localhost:8080/"
        },
        "id": "10d1eXF3OhCZ",
        "outputId": "69ea2a2e-de09-4900-ee9f-816a05777eb7"
      },
      "execution_count": 2,
      "outputs": [
        {
          "output_type": "stream",
          "name": "stdout",
          "text": [
            "Tableau résultant : [13 15 17 19 21 23 25 27 29 31 33 35 37]\n"
          ]
        }
      ]
    },
    {
      "cell_type": "code",
      "source": [
        "import numpy as np\n",
        "\n",
        "# Création de deux tableaux NumPy\n",
        "tableau1 = np.array([1, 2, 3, 4, 5])\n",
        "tableau2 = np.array([3, 4, 5, 6, 7])\n",
        "\n",
        "# Trouver les valeurs communes\n",
        "valeurs_communes = np.intersect1d(tableau1, tableau2)\n",
        "\n",
        "# Affichage des valeurs communes\n",
        "print(\"Valeurs communes entre les deux tableaux :\", valeurs_communes)\n"
      ],
      "metadata": {
        "colab": {
          "base_uri": "https://localhost:8080/"
        },
        "id": "rFDBYy2hP71h",
        "outputId": "75f746c9-4904-4f5c-d6bd-211b5f508036"
      },
      "execution_count": 3,
      "outputs": [
        {
          "output_type": "stream",
          "name": "stdout",
          "text": [
            "Valeurs communes entre les deux tableaux : [3 4 5]\n"
          ]
        }
      ]
    },
    {
      "cell_type": "code",
      "source": [
        "import numpy as np\n",
        "\n",
        "# Création d'un tableau NumPy avec des éléments répétés\n",
        "tableau = np.array([1, 2, 3, 4, 2, 6, 3, 8, 9, 1, 2, 4, 3, 6, 1])\n",
        "\n",
        "# Utilisation de numpy.unique() avec le paramètre return_counts\n",
        "entites_uniques = np.unique(tableau, return_counts=True)\n",
        "\n",
        "# Affichage des entités uniques et du nombre de répétitions\n",
        "print(\"Entités uniques du tableau :\", entites_uniques)\n",
        "\n"
      ],
      "metadata": {
        "colab": {
          "base_uri": "https://localhost:8080/"
        },
        "id": "icyZkGpMSN92",
        "outputId": "2cc4dd9d-52d4-4694-98de-e266b6bcb4c6"
      },
      "execution_count": 5,
      "outputs": [
        {
          "output_type": "stream",
          "name": "stdout",
          "text": [
            "Entités uniques du tableau : (array([1, 2, 3, 4, 6, 8, 9]), array([3, 3, 3, 2, 2, 1, 1]))\n"
          ]
        }
      ]
    },
    {
      "cell_type": "code",
      "source": [
        "import numpy as np\n",
        "\n",
        "# Création d'une matrice\n",
        "matrice = np.array([[1, 2, 3],\n",
        "                    [4, 5, 6],\n",
        "                    [7, 8, 9]])\n",
        "\n",
        "# Récupération des dimensions de la matrice\n",
        "nb_lignes, nb_colonnes = matrice.shape\n",
        "\n",
        "# Initialisation d'une matrice remplie de zéros pour stocker la transposée\n",
        "transposee = np.full((nb_colonnes, nb_lignes), 0, dtype=matrice.dtype)\n",
        "\n",
        "# Calcul de la transposée sans utiliser l'attribut T\n",
        "for i in range(nb_lignes):\n",
        "    for j in range(nb_colonnes):\n",
        "        transposee[j, i] = matrice[i, j]\n",
        "\n",
        "# Affichage de la matrice originale et de sa transposée\n",
        "print(\"Matrice originale :\\n\", matrice)\n",
        "print(\"\\nMatrice transposée :\\n\", transposee)\n"
      ],
      "metadata": {
        "colab": {
          "base_uri": "https://localhost:8080/"
        },
        "id": "k_FDAB3aSaMC",
        "outputId": "3abafc9f-eabb-4b95-f7fa-8debe3dfe36f"
      },
      "execution_count": 6,
      "outputs": [
        {
          "output_type": "stream",
          "name": "stdout",
          "text": [
            "Matrice originale :\n",
            " [[1 2 3]\n",
            " [4 5 6]\n",
            " [7 8 9]]\n",
            "\n",
            "Matrice transposée :\n",
            " [[1 4 7]\n",
            " [2 5 8]\n",
            " [3 6 9]]\n"
          ]
        }
      ]
    },
    {
      "cell_type": "code",
      "source": [
        "import numpy as np\n",
        "tab = np.array([[1, 2, 3, 4],[3, 4, 5, 6]])\n",
        "tab.reshape((2,2,2))"
      ],
      "metadata": {
        "colab": {
          "base_uri": "https://localhost:8080/"
        },
        "id": "XhC9qX2qUhQn",
        "outputId": "ae48bbf7-b98e-4790-8c28-2c93e5d3c448"
      },
      "execution_count": 7,
      "outputs": [
        {
          "output_type": "execute_result",
          "data": {
            "text/plain": [
              "array([[[1, 2],\n",
              "        [3, 4]],\n",
              "\n",
              "       [[3, 4],\n",
              "        [5, 6]]])"
            ]
          },
          "metadata": {},
          "execution_count": 7
        }
      ]
    },
    {
      "cell_type": "code",
      "source": [
        "import numpy as np\n",
        "\n",
        "# Création d'une matrice\n",
        "matrice = np.array([[1, 2, 3],\n",
        "                    [4, 5, 6],\n",
        "                    [7, 8, 9]])\n",
        "\n",
        "# Calcul de la somme de chaque colonne\n",
        "somme_colonnes = np.sum(matrice, axis=0)\n",
        "\n",
        "# Affichage de la matrice et de la somme de chaque colonne\n",
        "print(\"Matrice :\\n\", matrice)\n",
        "print(\"\\nSomme de chaque colonne :\\n\", somme_colonnes)\n"
      ],
      "metadata": {
        "colab": {
          "base_uri": "https://localhost:8080/"
        },
        "id": "5rxNgLuMWyxq",
        "outputId": "822ab6c2-f6c7-4650-a96b-d44beafcbf3e"
      },
      "execution_count": 8,
      "outputs": [
        {
          "output_type": "stream",
          "name": "stdout",
          "text": [
            "Matrice :\n",
            " [[1 2 3]\n",
            " [4 5 6]\n",
            " [7 8 9]]\n",
            "\n",
            "Somme de chaque colonne :\n",
            " [12 15 18]\n"
          ]
        }
      ]
    },
    {
      "cell_type": "code",
      "source": [
        "import numpy as np\n",
        "\n",
        "\n",
        "\n",
        "def compter_repetitions_elements(T):\n",
        "    # Utilisation de la fonction unique pour obtenir les éléments uniques et leurs occurrences\n",
        "    elements_uniques, occurrences = np.unique(T, return_counts=True)\n",
        "\n",
        "    # Création du dictionnaire\n",
        "    dictionnaire_resultat = dict(zip(elements_uniques, occurrences))\n",
        "\n",
        "    return dictionnaire_resultat\n",
        "\n",
        "# Exemple d'utilisation\n",
        "tableau_T = np.array([1, 2, 3, 1, 2, 3, 4, 5, 1, 2])\n",
        "\n",
        "resultat = compter_repetitions_elements(tableau_T)\n",
        "\n",
        "print(\"Tableau T :\", tableau_T)\n",
        "print(\"\\nDictionnaire des éléments et de leurs répétitions :\\n\", resultat)\n"
      ],
      "metadata": {
        "colab": {
          "base_uri": "https://localhost:8080/"
        },
        "id": "KmgqlxoTZiwP",
        "outputId": "9aa1561f-9972-4661-e9dc-ec4a046d0ba0"
      },
      "execution_count": 2,
      "outputs": [
        {
          "output_type": "stream",
          "name": "stdout",
          "text": [
            "Tableau T : [1 2 3 1 2 3 4 5 1 2]\n",
            "\n",
            "Dictionnaire des éléments et de leurs répétitions :\n",
            " {1: 3, 2: 3, 3: 2, 4: 1, 5: 1}\n"
          ]
        }
      ]
    },
    {
      "cell_type": "code",
      "source": [
        "import numpy as np\n",
        "\n",
        "# Création d'une matrice 4x4\n",
        "matrice_4x4 = np.array([[1, 2, 3, 4],\n",
        "                        [5, 6, 7, 8],\n",
        "                        [9, 10, 11, 12],\n",
        "                        [13, 14, 15, 16]])\n",
        "\n",
        "# Transfert de la matrice vers un tableau à une dimension\n",
        "tableau_V = matrice_4x4.flatten()\n",
        "\n",
        "# Affichage de la matrice et du tableau résultant\n",
        "print(\"Matrice 4x4 :\\n\", matrice_4x4)\n",
        "print(\"\\nTableau à une dimension (V) :\\n\", tableau_V)\n"
      ],
      "metadata": {
        "colab": {
          "base_uri": "https://localhost:8080/"
        },
        "id": "fcVw3-etczKp",
        "outputId": "325ffabe-3056-46c4-aa7d-4d8e48255c44"
      },
      "execution_count": 3,
      "outputs": [
        {
          "output_type": "stream",
          "name": "stdout",
          "text": [
            "Matrice 4x4 :\n",
            " [[ 1  2  3  4]\n",
            " [ 5  6  7  8]\n",
            " [ 9 10 11 12]\n",
            " [13 14 15 16]]\n",
            "\n",
            "Tableau à une dimension (V) :\n",
            " [ 1  2  3  4  5  6  7  8  9 10 11 12 13 14 15 16]\n"
          ]
        }
      ]
    },
    {
      "cell_type": "code",
      "source": [
        "import numpy as np\n",
        "\n",
        "# Création d'une matrice\n",
        "matrice = np.array([[1, 2, 3, 4],\n",
        "                    [5, 6, 7, 8],\n",
        "                    [9, 10, 11, 12],\n",
        "                    [13, 14, 15, 16]])\n",
        "\n",
        "# Mise à zéro des éléments de la diagonale principale\n",
        "np.fill_diagonal(matrice, 0)\n",
        "\n",
        "# Affichage de la matrice après la mise à zéro de la diagonale principale\n",
        "print(\"Matrice après mise à zéro de la diagonale principale :\\n\", matrice)\n"
      ],
      "metadata": {
        "colab": {
          "base_uri": "https://localhost:8080/"
        },
        "id": "Rp87e7cldlD4",
        "outputId": "556dabf2-6bcd-432e-944a-e7ef13a4b3ca"
      },
      "execution_count": 4,
      "outputs": [
        {
          "output_type": "stream",
          "name": "stdout",
          "text": [
            "Matrice après mise à zéro de la diagonale principale :\n",
            " [[ 0  2  3  4]\n",
            " [ 5  0  7  8]\n",
            " [ 9 10  0 12]\n",
            " [13 14 15  0]]\n"
          ]
        }
      ]
    },
    {
      "cell_type": "code",
      "source": [
        "import numpy as np\n",
        "\n",
        "# Définir les matrices A et B\n",
        "A = np.array([[1, 2, 3],\n",
        "              [4, 5, 6],\n",
        "              [7, 8, 9]])\n",
        "\n",
        "B = np.array([[9, 8, 7],\n",
        "              [6, 5, 4],\n",
        "              [3, 2, 1]])\n",
        "\n",
        "# Calcul du produit des matrices A et B\n",
        "produit_matriciel = np.dot(A, B)\n",
        "\n",
        "# Affichage des matrices A, B et du produit\n",
        "print(\"Matrice A :\\n\", A)\n",
        "print(\"\\nMatrice B :\\n\", B)\n",
        "print(\"\\nProduit des matrices A et B :\\n\", produit_matriciel)\n"
      ],
      "metadata": {
        "colab": {
          "base_uri": "https://localhost:8080/"
        },
        "id": "SoCaE8mCeXGk",
        "outputId": "003b047f-f415-471a-e348-314af3338340"
      },
      "execution_count": 5,
      "outputs": [
        {
          "output_type": "stream",
          "name": "stdout",
          "text": [
            "Matrice A :\n",
            " [[1 2 3]\n",
            " [4 5 6]\n",
            " [7 8 9]]\n",
            "\n",
            "Matrice B :\n",
            " [[9 8 7]\n",
            " [6 5 4]\n",
            " [3 2 1]]\n",
            "\n",
            "Produit des matrices A et B :\n",
            " [[ 30  24  18]\n",
            " [ 84  69  54]\n",
            " [138 114  90]]\n"
          ]
        }
      ]
    },
    {
      "cell_type": "code",
      "source": [
        "import matplotlib.pyplot as plt\n",
        "import numpy as np\n",
        "\n",
        "# Générer des données pour la fonction sinus\n",
        "x = np.linspace(0, 2 * np.pi, 100)\n",
        "y = np.sin(x)\n",
        "\n",
        "# Créer le tracé de la courbe\n",
        "plt.plot(x, y, label='sin(x)')\n",
        "\n",
        "# Ajouter des étiquettes et un titre\n",
        "plt.xlabel('x')\n",
        "plt.ylabel('sin(x)')\n",
        "plt.title('Courbe de la fonction sinus')\n",
        "\n",
        "# Ajouter une légende\n",
        "plt.legend()\n",
        "\n",
        "# Afficher le graphique\n",
        "plt.show()\n"
      ],
      "metadata": {
        "colab": {
          "base_uri": "https://localhost:8080/",
          "height": 472
        },
        "id": "HbHsMW0ppTDY",
        "outputId": "ae253776-826c-4876-e72e-2729a2f4a1bb"
      },
      "execution_count": 1,
      "outputs": [
        {
          "output_type": "display_data",
          "data": {
            "text/plain": [
              "<Figure size 640x480 with 1 Axes>"
            ],
            "image/png": "[encoded data removed]"
          },
          "metadata": {}
        }
      ]
    },
    {
      "cell_type": "code",
      "source": [
        "import pandas as pd\n",
        "\n",
        "# Charger les données depuis le fichier 'titanic.xls'\n",
        "# Assurez-vous que le fichier 'titanic.xls' est dans le même répertoire que votre script Python\n",
        "nom_fichier = 'titanic.xls'\n",
        "data_titanic = pd.read_excel(nom_fichier)\n",
        "\n",
        "# Afficher les premières lignes du DataFrame pour vérification\n",
        "print(data_titanic.head())\n"
      ],
      "metadata": {
        "colab": {
          "base_uri": "https://localhost:8080/"
        },
        "id": "QjtcHgrsvW8X",
        "outputId": "d843c731-ce7f-43f7-bfb3-838a644a94b8"
      },
      "execution_count": 4,
      "outputs": [
        {
          "output_type": "stream",
          "name": "stdout",
          "text": [
            "   pclass  survived                                             name     sex  \\\n",
            "0       1         1                    Allen, Miss. Elisabeth Walton  female   \n",
            "1       1         1                   Allison, Master. Hudson Trevor    male   \n",
            "2       1         0                     Allison, Miss. Helen Loraine  female   \n",
            "3       1         0             Allison, Mr. Hudson Joshua Creighton    male   \n",
            "4       1         0  Allison, Mrs. Hudson J C (Bessie Waldo Daniels)  female   \n",
            "\n",
            "       age  sibsp  parch  ticket      fare    cabin embarked boat   body  \\\n",
            "0  29.0000      0      0   24160  211.3375       B5        S    2    NaN   \n",
            "1   0.9167      1      2  113781  151.5500  C22 C26        S   11    NaN   \n",
            "2   2.0000      1      2  113781  151.5500  C22 C26        S  NaN    NaN   \n",
            "3  30.0000      1      2  113781  151.5500  C22 C26        S  NaN  135.0   \n",
            "4  25.0000      1      2  113781  151.5500  C22 C26        S  NaN    NaN   \n",
            "\n",
            "                         home.dest  \n",
            "0                     St Louis, MO  \n",
            "1  Montreal, PQ / Chesterville, ON  \n",
            "2  Montreal, PQ / Chesterville, ON  \n",
            "3  Montreal, PQ / Chesterville, ON  \n",
            "4  Montreal, PQ / Chesterville, ON  \n"
          ]
        }
      ]
    },
    {
      "cell_type": "code",
      "source": [
        "import pandas as pd\n",
        "\n",
        "# Charger les données depuis le fichier 'titanic.xls'\n",
        "# Assurez-vous que le fichier 'titanic.xls' est dans le même répertoire que votre script Python\n",
        "nom_fichier = 'titanic.xls'\n",
        "data_titanic = pd.read_excel(nom_fichier)\n",
        "\n",
        "# Afficher les cinq dernières lignes du DataFrame\n",
        "print(data_titanic.tail())\n"
      ],
      "metadata": {
        "colab": {
          "base_uri": "https://localhost:8080/"
        },
        "id": "un6h7EK4zDc3",
        "outputId": "3b551b33-5837-4903-9931-5305c94b6078"
      },
      "execution_count": 5,
      "outputs": [
        {
          "output_type": "stream",
          "name": "stdout",
          "text": [
            "      pclass  survived                       name     sex   age  sibsp  parch  \\\n",
            "1304       3         0       Zabour, Miss. Hileni  female  14.5      1      0   \n",
            "1305       3         0      Zabour, Miss. Thamine  female   NaN      1      0   \n",
            "1306       3         0  Zakarian, Mr. Mapriededer    male  26.5      0      0   \n",
            "1307       3         0        Zakarian, Mr. Ortin    male  27.0      0      0   \n",
            "1308       3         0         Zimmerman, Mr. Leo    male  29.0      0      0   \n",
            "\n",
            "      ticket     fare cabin embarked boat   body home.dest  \n",
            "1304    2665  14.4542   NaN        C  NaN  328.0       NaN  \n",
            "1305    2665  14.4542   NaN        C  NaN    NaN       NaN  \n",
            "1306    2656   7.2250   NaN        C  NaN  304.0       NaN  \n",
            "1307    2670   7.2250   NaN        C  NaN    NaN       NaN  \n",
            "1308  315082   7.8750   NaN        S  NaN    NaN       NaN  \n"
          ]
        }
      ]
    },
    {
      "cell_type": "code",
      "source": [
        "import pandas as pd\n",
        "\n",
        "# Charger les données depuis le fichier 'titanic.xls'\n",
        "# Assurez-vous que le fichier 'titanic.xls' est dans le même répertoire que votre script Python\n",
        "nom_fichier = 'titanic.xls'\n",
        "data_titanic = pd.read_excel(nom_fichier)\n",
        "\n",
        "# Afficher les lignes de 6 à 10 du DataFrame\n",
        "print(data_titanic[5:10])\n"
      ],
      "metadata": {
        "colab": {
          "base_uri": "https://localhost:8080/"
        },
        "id": "jlzuXomWza7t",
        "outputId": "f8228cfe-2b53-4e09-b5d1-728dcd01a9cf"
      },
      "execution_count": 6,
      "outputs": [
        {
          "output_type": "stream",
          "name": "stdout",
          "text": [
            "   pclass  survived                                           name     sex  \\\n",
            "5       1         1                            Anderson, Mr. Harry    male   \n",
            "6       1         1              Andrews, Miss. Kornelia Theodosia  female   \n",
            "7       1         0                         Andrews, Mr. Thomas Jr    male   \n",
            "8       1         1  Appleton, Mrs. Edward Dale (Charlotte Lamson)  female   \n",
            "9       1         0                        Artagaveytia, Mr. Ramon    male   \n",
            "\n",
            "    age  sibsp  parch    ticket     fare cabin embarked boat  body  \\\n",
            "5  48.0      0      0     19952  26.5500   E12        S    3   NaN   \n",
            "6  63.0      1      0     13502  77.9583    D7        S   10   NaN   \n",
            "7  39.0      0      0    112050   0.0000   A36        S  NaN   NaN   \n",
            "8  53.0      2      0     11769  51.4792  C101        S    D   NaN   \n",
            "9  71.0      0      0  PC 17609  49.5042   NaN        C  NaN  22.0   \n",
            "\n",
            "             home.dest  \n",
            "5         New York, NY  \n",
            "6           Hudson, NY  \n",
            "7          Belfast, NI  \n",
            "8  Bayside, Queens, NY  \n",
            "9  Montevideo, Uruguay  \n"
          ]
        }
      ]
    },
    {
      "cell_type": "code",
      "source": [
        "import pandas as pd\n",
        "\n",
        "# Charger les données depuis le fichier 'titanic.xls'\n",
        "# Assurez-vous que le fichier 'titanic.xls' est dans le même répertoire que votre script Python\n",
        "nom_fichier = 'titanic.xls'\n",
        "data_titanic = pd.read_excel(nom_fichier)\n",
        "\n",
        "# Afficher la valeur de la colonne 'name' de la ligne 5\n",
        "valeur_name_ligne_5 = data_titanic.at[4, 'name']\n",
        "print(\"Valeur de la colonne 'name' de la ligne 5 :\", valeur_name_ligne_5)\n"
      ],
      "metadata": {
        "colab": {
          "base_uri": "https://localhost:8080/"
        },
        "id": "fw5nrLY30IAx",
        "outputId": "834882ae-1842-4dda-972d-8ad104c25009"
      },
      "execution_count": 7,
      "outputs": [
        {
          "output_type": "stream",
          "name": "stdout",
          "text": [
            "Valeur de la colonne 'name' de la ligne 5 : Allison, Mrs. Hudson J C (Bessie Waldo Daniels)\n"
          ]
        }
      ]
    },
    {
      "cell_type": "code",
      "source": [
        "import pandas as pd\n",
        "\n",
        "# Charger les données depuis le fichier 'titanic.xls'\n",
        "# Assurez-vous que le fichier 'titanic.xls' est dans le même répertoire que votre script Python\n",
        "nom_fichier = 'titanic.xls'\n",
        "data_titanic = pd.read_excel(nom_fichier)\n",
        "\n",
        "# Filtrer les passagers ayant plus de 30 ans\n",
        "passagers_plus_30_ans = data_titanic[data_titanic['age'] > 30]\n",
        "\n",
        "# Afficher le résultat\n",
        "print(passagers_plus_30_ans)\n"
      ],
      "metadata": {
        "colab": {
          "base_uri": "https://localhost:8080/"
        },
        "id": "-bTyWz500Nkm",
        "outputId": "5f5efc8a-c37b-4fd5-a28d-a91b4d18b089"
      },
      "execution_count": 8,
      "outputs": [
        {
          "output_type": "stream",
          "name": "stdout",
          "text": [
            "      pclass  survived                                             name  \\\n",
            "5          1         1                              Anderson, Mr. Harry   \n",
            "6          1         1                Andrews, Miss. Kornelia Theodosia   \n",
            "7          1         0                           Andrews, Mr. Thomas Jr   \n",
            "8          1         1    Appleton, Mrs. Edward Dale (Charlotte Lamson)   \n",
            "9          1         0                          Artagaveytia, Mr. Ramon   \n",
            "...      ...       ...                                              ...   \n",
            "1286       3         1  Whabee, Mrs. George Joseph (Shawneene Abi-Saab)   \n",
            "1287       3         0                 Widegren, Mr. Carl/Charles Peter   \n",
            "1290       3         1                 Wilkes, Mrs. James (Ellen Needs)   \n",
            "1298       3         0                        Wittevrongel, Mr. Camille   \n",
            "1301       3         0                             Youseff, Mr. Gerious   \n",
            "\n",
            "         sex   age  sibsp  parch    ticket     fare cabin embarked boat  \\\n",
            "5       male  48.0      0      0     19952  26.5500   E12        S    3   \n",
            "6     female  63.0      1      0     13502  77.9583    D7        S   10   \n",
            "7       male  39.0      0      0    112050   0.0000   A36        S  NaN   \n",
            "8     female  53.0      2      0     11769  51.4792  C101        S    D   \n",
            "9       male  71.0      0      0  PC 17609  49.5042   NaN        C  NaN   \n",
            "...      ...   ...    ...    ...       ...      ...   ...      ...  ...   \n",
            "1286  female  38.0      0      0      2688   7.2292   NaN        C    C   \n",
            "1287    male  51.0      0      0    347064   7.7500   NaN        S  NaN   \n",
            "1290  female  47.0      1      0    363272   7.0000   NaN        S  NaN   \n",
            "1298    male  36.0      0      0    345771   9.5000   NaN        S  NaN   \n",
            "1301    male  45.5      0      0      2628   7.2250   NaN        C  NaN   \n",
            "\n",
            "       body            home.dest  \n",
            "5       NaN         New York, NY  \n",
            "6       NaN           Hudson, NY  \n",
            "7       NaN          Belfast, NI  \n",
            "8       NaN  Bayside, Queens, NY  \n",
            "9      22.0  Montevideo, Uruguay  \n",
            "...     ...                  ...  \n",
            "1286    NaN                  NaN  \n",
            "1287    NaN                  NaN  \n",
            "1290    NaN                  NaN  \n",
            "1298    NaN                  NaN  \n",
            "1301  312.0                  NaN  \n",
            "\n",
            "[437 rows x 14 columns]\n"
          ]
        }
      ]
    },
    {
      "cell_type": "code",
      "source": [
        "import pandas as pd\n",
        "\n",
        "# Charger les données depuis le fichier 'titanic.xls'\n",
        "# Assurez-vous que le fichier 'titanic.xls' est dans le même répertoire que votre script Python\n",
        "nom_fichier = 'titanic.xls'\n",
        "data_titanic = pd.read_excel(nom_fichier)\n",
        "\n",
        "# Afficher le nombre de passagers de sexe masculin\n",
        "nombre_passagers_masculins = data_titanic['sex'].value_counts()['male']\n",
        "print(\"Nombre de passagers masculins :\", nombre_passagers_masculins)\n"
      ],
      "metadata": {
        "colab": {
          "base_uri": "https://localhost:8080/"
        },
        "id": "Gm_2CKaC0hEV",
        "outputId": "aa4d1cd9-4613-405d-f579-4838767b9caa"
      },
      "execution_count": 9,
      "outputs": [
        {
          "output_type": "stream",
          "name": "stdout",
          "text": [
            "Nombre de passagers masculins : 843\n"
          ]
        }
      ]
    },
    {
      "cell_type": "code",
      "source": [
        "import pandas as pd\n",
        "\n",
        "# Charger les données depuis le fichier 'titanic.xls'\n",
        "# Assurez-vous que le fichier 'titanic.xls' est dans le même répertoire que votre script Python\n",
        "nom_fichier = 'titanic.xls'\n",
        "data_titanic = pd.read_excel(nom_fichier)\n",
        "\n",
        "# Filtrer les passagers de sexe féminin âgés de moins de 25 ans\n",
        "passager_feminins_moins_25_ans = data_titanic[(data_titanic['sex'] == 'female') & (data_titanic['age'] < 25)]\n",
        "\n",
        "# Afficher le résultat\n",
        "print(passager_feminins_moins_25_ans)\n"
      ],
      "metadata": {
        "colab": {
          "base_uri": "https://localhost:8080/"
        },
        "id": "5vRTfCCn1LPD",
        "outputId": "2f59df92-6c7e-47a0-f85d-d9316d8c814b"
      },
      "execution_count": 10,
      "outputs": [
        {
          "output_type": "stream",
          "name": "stdout",
          "text": [
            "      pclass  survived                                               name  \\\n",
            "2          1         0                       Allison, Miss. Helen Loraine   \n",
            "11         1         1  Astor, Mrs. John Jacob (Madeleine Talmadge Force)   \n",
            "12         1         1                      Aubart, Mme. Leontine Pauline   \n",
            "27         1         1            Bishop, Mrs. Dickinson H (Helen Walton)   \n",
            "36         1         1                        Bowerman, Miss. Elsie Edith   \n",
            "...      ...       ...                                                ...   \n",
            "1265       3         0                          Van Impe, Miss. Catharina   \n",
            "1273       3         0                 Vander Planke, Miss. Augusta Maria   \n",
            "1279       3         0               Vestrom, Miss. Hulda Amanda Adolfina   \n",
            "1300       3         1            Yasbeck, Mrs. Antoni (Selini Alexander)   \n",
            "1304       3         0                               Zabour, Miss. Hileni   \n",
            "\n",
            "         sex   age  sibsp  parch    ticket      fare    cabin embarked boat  \\\n",
            "2     female   2.0      1      2    113781  151.5500  C22 C26        S  NaN   \n",
            "11    female  18.0      1      0  PC 17757  227.5250  C62 C64        C    4   \n",
            "12    female  24.0      0      0  PC 17477   69.3000      B35        C    9   \n",
            "27    female  19.0      1      0     11967   91.0792      B49        C    7   \n",
            "36    female  22.0      0      1    113505   55.0000      E33        S    6   \n",
            "...      ...   ...    ...    ...       ...       ...      ...      ...  ...   \n",
            "1265  female  10.0      0      2    345773   24.1500      NaN        S  NaN   \n",
            "1273  female  18.0      2      0    345764   18.0000      NaN        S  NaN   \n",
            "1279  female  14.0      0      0    350406    7.8542      NaN        S  NaN   \n",
            "1300  female  15.0      1      0      2659   14.4542      NaN        C  NaN   \n",
            "1304  female  14.5      1      0      2665   14.4542      NaN        C  NaN   \n",
            "\n",
            "       body                         home.dest  \n",
            "2       NaN   Montreal, PQ / Chesterville, ON  \n",
            "11      NaN                      New York, NY  \n",
            "12      NaN                     Paris, France  \n",
            "27      NaN                      Dowagiac, MI  \n",
            "36      NaN  St Leonards-on-Sea, England Ohio  \n",
            "...     ...                               ...  \n",
            "1265    NaN                               NaN  \n",
            "1273    NaN                               NaN  \n",
            "1279    NaN                               NaN  \n",
            "1300    NaN                               NaN  \n",
            "1304  328.0                               NaN  \n",
            "\n",
            "[172 rows x 14 columns]\n"
          ]
        }
      ]
    },
    {
      "cell_type": "code",
      "source": [
        "import pandas as pd\n",
        "\n",
        "# Charger les données depuis le fichier 'titanic.xls'\n",
        "# Assurez-vous que le fichier 'titanic.xls' est dans le même répertoire que votre script Python\n",
        "nom_fichier = 'titanic.xls'\n",
        "data_titanic = pd.read_excel(nom_fichier)\n",
        "\n",
        "# Afficher le nombre de passagers ayant survécu\n",
        "nombre_passagers_survivants = data_titanic['survived'].value_counts()[1]\n",
        "print(\"Nombre de passagers ayant survécu :\", nombre_passagers_survivants)\n"
      ],
      "metadata": {
        "colab": {
          "base_uri": "https://localhost:8080/"
        },
        "id": "a9mTe0H71OCK",
        "outputId": "fe6c6c36-d320-4e7d-91f7-72202b5e7825"
      },
      "execution_count": 11,
      "outputs": [
        {
          "output_type": "stream",
          "name": "stdout",
          "text": [
            "Nombre de passagers ayant survécu : 500\n"
          ]
        }
      ]
    },
    {
      "cell_type": "code",
      "source": [
        "import pandas as pd\n",
        "import matplotlib.pyplot as plt\n",
        "\n",
        "# Charger les données depuis le fichier 'titanic.xls'\n",
        "# Assurez-vous que le fichier 'titanic.xls' est dans le même répertoire que votre script Python\n",
        "nom_fichier = 'titanic.xls'\n",
        "data_titanic = pd.read_excel(nom_fichier)\n",
        "\n",
        "# Compter le nombre de passagers par sexe\n",
        "nombre_passagers_par_sexe = data_titanic['sex'].value_counts()\n",
        "\n",
        "# Créer un graphe de type bar\n",
        "plt.bar(nombre_passagers_par_sexe.index, nombre_passagers_par_sexe)\n",
        "\n",
        "# Ajouter des titres et des labels\n",
        "plt.title('Nombre de passagers par sexe')\n",
        "plt.xlabel('Sexe')\n",
        "plt.ylabel('Nombre de passagers')\n",
        "\n",
        "# Afficher le graphe\n",
        "plt.show()\n"
      ],
      "metadata": {
        "colab": {
          "base_uri": "https://localhost:8080/",
          "height": 472
        },
        "id": "tgW8XOTG1omz",
        "outputId": "582a1dd4-4277-4b30-9c9b-e1791f1ddf27"
      },
      "execution_count": 12,
      "outputs": [
        {
          "output_type": "display_data",
          "data": {
            "text/plain": [
              "<Figure size 640x480 with 1 Axes>"
            ],
            "image/png": "[encoded data removed]"
          },
          "metadata": {}
        }
      ]
    },
    {
      "cell_type": "code",
      "source": [],
      "metadata": {
        "id": "2IKINkYJ2RO5"
      },
      "execution_count": null,
      "outputs": []
    },
    {
      "cell_type": "code",
      "source": [
        "import pandas as pd\n",
        "import matplotlib.pyplot as plt\n",
        "\n",
        "# Charger les données depuis le fichier 'titanic.xls'\n",
        "# Assurez-vous que le fichier 'titanic.xls' est dans le même répertoire que votre script Python\n",
        "nom_fichier = 'titanic.xls'\n",
        "data_titanic = pd.read_excel(nom_fichier)\n",
        "\n",
        "# Compter le nombre de passagers décédés et survivants\n",
        "nombre_passagers_survivants = data_titanic['survived'].value_counts()\n",
        "\n",
        "# Créer un graphe de type bar\n",
        "plt.bar(nombre_passagers_survivants.index, nombre_passagers_survivants)\n",
        "\n",
        "# Ajouter des titres et des labels\n",
        "plt.title('Nombre de passagers décédés et survivants')\n",
        "plt.xlabel('Survie (0: Décédé, 1: Survivant)')\n",
        "plt.ylabel('Nombre de passagers')\n",
        "\n",
        "# Afficher le graphe\n",
        "plt.show()\n"
      ],
      "metadata": {
        "colab": {
          "base_uri": "https://localhost:8080/",
          "height": 472
        },
        "id": "mXJCa5Rc24Lc",
        "outputId": "e94960d2-fcdf-4e67-e50f-38f1e7616df1"
      },
      "execution_count": 13,
      "outputs": [
        {
          "output_type": "display_data",
          "data": {
            "text/plain": [
              "<Figure size 640x480 with 1 Axes>"
            ],
            "image/png": "[encoded data removed]"
          },
          "metadata": {}
        }
      ]
    },
    {
      "cell_type": "code",
      "source": [
        "import pandas as pd\n",
        "import matplotlib.pyplot as plt\n",
        "\n",
        "# Charger les données depuis le fichier 'titanic.xls'\n",
        "# Assurez-vous que le fichier 'titanic.xls' est dans le même répertoire que votre script Python\n",
        "nom_fichier = 'titanic.xls'\n",
        "data_titanic = pd.read_excel(nom_fichier)\n",
        "\n",
        "# Compter le nombre de passagers par type d'embarquement\n",
        "nombre_passagers_par_embarquement = data_titanic['embarked'].value_counts()\n",
        "\n",
        "# Créer un graphe de type bar\n",
        "plt.bar(nombre_passagers_par_embarquement.index, nombre_passagers_par_embarquement)\n",
        "\n",
        "# Ajouter des titres et des labels\n",
        "plt.title('Nombre de passagers par type d\\'embarquement')\n",
        "plt.xlabel('Type d\\'embarquement')\n",
        "plt.ylabel('Nombre de passagers')\n",
        "\n",
        "# Afficher le graphe\n",
        "plt.show()\n"
      ],
      "metadata": {
        "colab": {
          "base_uri": "https://localhost:8080/",
          "height": 472
        },
        "id": "Y9H4Ntue3DVJ",
        "outputId": "4fa05a7e-375c-4a5d-edf4-8364df909faa"
      },
      "execution_count": 14,
      "outputs": [
        {
          "output_type": "display_data",
          "data": {
            "text/plain": [
              "<Figure size 640x480 with 1 Axes>"
            ],
            "image/png": "[encoded data removed]"
          },
          "metadata": {}
        }
      ]
    },
    {
      "cell_type": "code",
      "source": [
        "import pandas as pd\n",
        "\n",
        "# Spécifiez le chemin vers le fichier 'titanic.xls'\n",
        "chemin_fichier = '/content/titanic.xls'  # Remplacez par le chemin correct\n",
        "\n",
        "# Charger les données depuis le fichier 'titanic.xls'\n",
        "data_titanic = pd.read_excel(chemin_fichier)\n",
        "\n",
        "# Afficher les cinq premières lignes du DataFrame pour vérification\n",
        "print(data_titanic.head())\n"
      ],
      "metadata": {
        "colab": {
          "base_uri": "https://localhost:8080/"
        },
        "id": "H__qA5AL3tBK",
        "outputId": "bbe8de8b-11ce-495b-9111-45beacbef698"
      },
      "execution_count": 16,
      "outputs": [
        {
          "output_type": "stream",
          "name": "stdout",
          "text": [
            "   pclass  survived                                             name     sex  \\\n",
            "0       1         1                    Allen, Miss. Elisabeth Walton  female   \n",
            "1       1         1                   Allison, Master. Hudson Trevor    male   \n",
            "2       1         0                     Allison, Miss. Helen Loraine  female   \n",
            "3       1         0             Allison, Mr. Hudson Joshua Creighton    male   \n",
            "4       1         0  Allison, Mrs. Hudson J C (Bessie Waldo Daniels)  female   \n",
            "\n",
            "       age  sibsp  parch  ticket      fare    cabin embarked boat   body  \\\n",
            "0  29.0000      0      0   24160  211.3375       B5        S    2    NaN   \n",
            "1   0.9167      1      2  113781  151.5500  C22 C26        S   11    NaN   \n",
            "2   2.0000      1      2  113781  151.5500  C22 C26        S  NaN    NaN   \n",
            "3  30.0000      1      2  113781  151.5500  C22 C26        S  NaN  135.0   \n",
            "4  25.0000      1      2  113781  151.5500  C22 C26        S  NaN    NaN   \n",
            "\n",
            "                         home.dest  \n",
            "0                     St Louis, MO  \n",
            "1  Montreal, PQ / Chesterville, ON  \n",
            "2  Montreal, PQ / Chesterville, ON  \n",
            "3  Montreal, PQ / Chesterville, ON  \n",
            "4  Montreal, PQ / Chesterville, ON  \n"
          ]
        }
      ]
    },
    {
      "cell_type": "code",
      "source": [
        "import pandas as pd\n",
        "\n",
        "# Spécifiez le chemin vers le fichier 'titanic.xls'\n",
        "chemin_fichier = '/content/titanic.xls'  # Remplacez par le chemin correct\n",
        "\n",
        "# Charger les données depuis le fichier 'titanic.xls'\n",
        "data_titanic = pd.read_excel(chemin_fichier)\n",
        "\n",
        "# Afficher le nombre de valeurs manquantes par colonne avant le nettoyage\n",
        "print(\"Nombre de valeurs manquantes avant nettoyage :\\n\", data_titanic.isnull().sum())\n",
        "\n",
        "# Supprimer les lignes avec des valeurs manquantes\n",
        "data_titanic = data_titanic.dropna()\n",
        "\n",
        "# Afficher le nombre de valeurs manquantes par colonne après le nettoyage\n",
        "print(\"\\nNombre de valeurs manquantes après nettoyage :\\n\", data_titanic.isnull().sum())\n"
      ],
      "metadata": {
        "colab": {
          "base_uri": "https://localhost:8080/"
        },
        "id": "cNIUSI9y_1sQ",
        "outputId": "e8faf882-33fd-4cad-bf15-b27d17584669"
      },
      "execution_count": 17,
      "outputs": [
        {
          "output_type": "stream",
          "name": "stdout",
          "text": [
            "Nombre de valeurs manquantes avant nettoyage :\n",
            " pclass          0\n",
            "survived        0\n",
            "name            0\n",
            "sex             0\n",
            "age           263\n",
            "sibsp           0\n",
            "parch           0\n",
            "ticket          0\n",
            "fare            1\n",
            "cabin        1014\n",
            "embarked        2\n",
            "boat          823\n",
            "body         1188\n",
            "home.dest     564\n",
            "dtype: int64\n",
            "\n",
            "Nombre de valeurs manquantes après nettoyage :\n",
            " pclass       0.0\n",
            "survived     0.0\n",
            "name         0.0\n",
            "sex          0.0\n",
            "age          0.0\n",
            "sibsp        0.0\n",
            "parch        0.0\n",
            "ticket       0.0\n",
            "fare         0.0\n",
            "cabin        0.0\n",
            "embarked     0.0\n",
            "boat         0.0\n",
            "body         0.0\n",
            "home.dest    0.0\n",
            "dtype: float64\n"
          ]
        }
      ]
    },
    {
      "cell_type": "code",
      "source": [
        "import pandas as pd\n",
        "\n",
        "# Spécifiez le chemin vers le fichier 'titanic.xls'\n",
        "chemin_fichier_entree = '/content/titanic.xls'  # Remplacez par le chemin correct\n",
        "\n",
        "# Charger les données depuis le fichier 'titanic.xls'\n",
        "data_titanic = pd.read_excel(chemin_fichier_entree)\n",
        "\n",
        "# Nettoyer les données (dans cet exemple, supprimer les lignes avec des valeurs manquantes)\n",
        "data_titanic_propre = data_titanic.dropna()\n",
        "\n",
        "# Spécifiez le chemin vers le nouveau fichier de sauvegarde\n",
        "chemin_fichier_sortie = '/content/titanic_propre.xlsx'  # Remplacez par le chemin correct\n",
        "\n",
        "# Sauvegarder les données propres dans un nouveau fichier Excel\n",
        "data_titanic_propre.to_excel(chemin_fichier_sortie, index=False)\n",
        "\n",
        "print(\"Les données propres ont été sauvegardées dans\", chemin_fichier_sortie)\n"
      ],
      "metadata": {
        "colab": {
          "base_uri": "https://localhost:8080/"
        },
        "id": "yAeCfhfYEgfa",
        "outputId": "a83f12bf-942b-4bc9-f201-da5576358994"
      },
      "execution_count": 18,
      "outputs": [
        {
          "output_type": "stream",
          "name": "stdout",
          "text": [
            "Les données propres ont été sauvegardées dans /content/titanic_propre.xlsx\n"
          ]
        }
      ]
    }
  ]
}